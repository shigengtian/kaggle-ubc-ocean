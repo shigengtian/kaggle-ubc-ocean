{
 "cells": [
  {
   "cell_type": "code",
   "execution_count": 14,
   "metadata": {},
   "outputs": [],
   "source": [
    "import pandas as pd\n",
    "import numpy as np\n",
    "import cv2\n",
    "from pathlib import Path\n",
    "import os\n",
    "import sys\n",
    "from tqdm import tqdm\n",
    "import matplotlib.pyplot as plt\n",
    "from glob import glob"
   ]
  },
  {
   "cell_type": "code",
   "execution_count": 15,
   "metadata": {},
   "outputs": [
    {
     "data": {
      "text/html": [
       "<div>\n",
       "<style scoped>\n",
       "    .dataframe tbody tr th:only-of-type {\n",
       "        vertical-align: middle;\n",
       "    }\n",
       "\n",
       "    .dataframe tbody tr th {\n",
       "        vertical-align: top;\n",
       "    }\n",
       "\n",
       "    .dataframe thead th {\n",
       "        text-align: right;\n",
       "    }\n",
       "</style>\n",
       "<table border=\"1\" class=\"dataframe\">\n",
       "  <thead>\n",
       "    <tr style=\"text-align: right;\">\n",
       "      <th></th>\n",
       "      <th>image_id</th>\n",
       "      <th>label</th>\n",
       "      <th>image_width</th>\n",
       "      <th>image_height</th>\n",
       "      <th>is_tma</th>\n",
       "    </tr>\n",
       "  </thead>\n",
       "  <tbody>\n",
       "    <tr>\n",
       "      <th>0</th>\n",
       "      <td>4</td>\n",
       "      <td>HGSC</td>\n",
       "      <td>23785</td>\n",
       "      <td>20008</td>\n",
       "      <td>False</td>\n",
       "    </tr>\n",
       "    <tr>\n",
       "      <th>1</th>\n",
       "      <td>66</td>\n",
       "      <td>LGSC</td>\n",
       "      <td>48871</td>\n",
       "      <td>48195</td>\n",
       "      <td>False</td>\n",
       "    </tr>\n",
       "    <tr>\n",
       "      <th>2</th>\n",
       "      <td>91</td>\n",
       "      <td>HGSC</td>\n",
       "      <td>3388</td>\n",
       "      <td>3388</td>\n",
       "      <td>True</td>\n",
       "    </tr>\n",
       "    <tr>\n",
       "      <th>3</th>\n",
       "      <td>281</td>\n",
       "      <td>LGSC</td>\n",
       "      <td>42309</td>\n",
       "      <td>15545</td>\n",
       "      <td>False</td>\n",
       "    </tr>\n",
       "    <tr>\n",
       "      <th>4</th>\n",
       "      <td>286</td>\n",
       "      <td>EC</td>\n",
       "      <td>37204</td>\n",
       "      <td>30020</td>\n",
       "      <td>False</td>\n",
       "    </tr>\n",
       "    <tr>\n",
       "      <th>...</th>\n",
       "      <td>...</td>\n",
       "      <td>...</td>\n",
       "      <td>...</td>\n",
       "      <td>...</td>\n",
       "      <td>...</td>\n",
       "    </tr>\n",
       "    <tr>\n",
       "      <th>533</th>\n",
       "      <td>65022</td>\n",
       "      <td>LGSC</td>\n",
       "      <td>53355</td>\n",
       "      <td>46675</td>\n",
       "      <td>False</td>\n",
       "    </tr>\n",
       "    <tr>\n",
       "      <th>534</th>\n",
       "      <td>65094</td>\n",
       "      <td>MC</td>\n",
       "      <td>55042</td>\n",
       "      <td>45080</td>\n",
       "      <td>False</td>\n",
       "    </tr>\n",
       "    <tr>\n",
       "      <th>535</th>\n",
       "      <td>65300</td>\n",
       "      <td>HGSC</td>\n",
       "      <td>75860</td>\n",
       "      <td>27503</td>\n",
       "      <td>False</td>\n",
       "    </tr>\n",
       "    <tr>\n",
       "      <th>536</th>\n",
       "      <td>65371</td>\n",
       "      <td>HGSC</td>\n",
       "      <td>42551</td>\n",
       "      <td>41800</td>\n",
       "      <td>False</td>\n",
       "    </tr>\n",
       "    <tr>\n",
       "      <th>537</th>\n",
       "      <td>65533</td>\n",
       "      <td>HGSC</td>\n",
       "      <td>45190</td>\n",
       "      <td>33980</td>\n",
       "      <td>False</td>\n",
       "    </tr>\n",
       "  </tbody>\n",
       "</table>\n",
       "<p>538 rows × 5 columns</p>\n",
       "</div>"
      ],
      "text/plain": [
       "     image_id label  image_width  image_height  is_tma\n",
       "0           4  HGSC        23785         20008   False\n",
       "1          66  LGSC        48871         48195   False\n",
       "2          91  HGSC         3388          3388    True\n",
       "3         281  LGSC        42309         15545   False\n",
       "4         286    EC        37204         30020   False\n",
       "..        ...   ...          ...           ...     ...\n",
       "533     65022  LGSC        53355         46675   False\n",
       "534     65094    MC        55042         45080   False\n",
       "535     65300  HGSC        75860         27503   False\n",
       "536     65371  HGSC        42551         41800   False\n",
       "537     65533  HGSC        45190         33980   False\n",
       "\n",
       "[538 rows x 5 columns]"
      ]
     },
     "execution_count": 15,
     "metadata": {},
     "output_type": "execute_result"
    }
   ],
   "source": [
    "data_dir = Path(\"dataset\")\n",
    "train_df = pd.read_csv(data_dir / \"train.csv\")\n",
    "train_df"
   ]
  },
  {
   "cell_type": "code",
   "execution_count": 17,
   "metadata": {},
   "outputs": [
    {
     "data": {
      "text/plain": [
       "'dataset/train_tiles_2048/10143_tile_0_0.png'"
      ]
     },
     "execution_count": 17,
     "metadata": {},
     "output_type": "execute_result"
    }
   ],
   "source": [
    "tile_path = data_dir / \"train_tiles_2048\"\n",
    "tiles = sorted(glob(str(tile_path / \"*.png\")))\n",
    "tiles[0]"
   ]
  },
  {
   "cell_type": "code",
   "execution_count": 8,
   "metadata": {},
   "outputs": [],
   "source": [
    "# fig, axes = plt.subplots(1, 2, figsize=(10, 5))\n",
    "# for i, ax in enumerate(axes):\n",
    "#     img = cv2.imread(data_dir / \"train\" / train_df.iloc[i][\"image_id\"])\n",
    "#     img = cv2.cvtColor(img, cv2.COLOR_BGR2RGB)\n",
    "#     ax.imshow(img)\n",
    "#     ax.set_title(train_df.iloc[i][\"label\"])"
   ]
  },
  {
   "cell_type": "code",
   "execution_count": 9,
   "metadata": {},
   "outputs": [],
   "source": [
    "# # seg_imgs  = sorted(str(data_dir / \"masks\" )+\"/*.png\")\n",
    "\n",
    "# mask = np.load(\"dataset/masks_np/16064.npy\")\n",
    "\n",
    "# mask.dtype\n"
   ]
  },
  {
   "cell_type": "code",
   "execution_count": 10,
   "metadata": {},
   "outputs": [],
   "source": [
    "# mask = np.load(\"dataset/masks_np/66.npy\")\n",
    "# mask = cv2.resize(mask, (512, 512))\n",
    "# plt.imshow(mask)"
   ]
  },
  {
   "cell_type": "markdown",
   "metadata": {},
   "source": []
  },
  {
   "cell_type": "code",
   "execution_count": 12,
   "metadata": {},
   "outputs": [],
   "source": [
    "# mask = np.load(\"dataset/masks_np/1020.npy\")\n",
    "# mask = cv2.resize(mask, (512, 512))\n",
    "# plt.imshow(mask)"
   ]
  },
  {
   "cell_type": "code",
   "execution_count": 13,
   "metadata": {},
   "outputs": [],
   "source": [
    "# def get_cropped_images(file_path, image_id, th_area = 1000):\n",
    "#     image = Image.open(file_path)\n",
    "#     # Aspect ratio\n",
    "#     as_ratio = image.size[0] / image.size[1]\n",
    "    \n",
    "#     sxs, exs, sys, eys = [],[],[],[]\n",
    "#     if as_ratio >= 1.5:\n",
    "#         # Crop\n",
    "#         mask = np.max( np.array(image) > 0, axis=-1 ).astype(np.uint8)\n",
    "#         retval, labels = cv2.connectedComponents(mask)\n",
    "#         if retval >= as_ratio:\n",
    "#             x, y = np.meshgrid( np.arange(image.size[0]), np.arange(image.size[1]) )\n",
    "#             for label in range(1, retval):\n",
    "#                 area = np.sum(labels == label)\n",
    "#                 if area < th_area:\n",
    "#                     continue\n",
    "#                 xs, ys= x[ labels == label ], y[ labels == label ]\n",
    "#                 sx, ex = np.min(xs), np.max(xs)\n",
    "#                 cx = (sx + ex) // 2\n",
    "#                 crop_size = image.size[1]\n",
    "#                 sx = max(0, cx-crop_size//2)\n",
    "#                 ex = min(sx + crop_size - 1, image.size[0]-1)\n",
    "#                 sx = ex - crop_size + 1\n",
    "#                 sy, ey = 0, image.size[1]-1\n",
    "#                 sxs.append(sx)\n",
    "#                 exs.append(ex)\n",
    "#                 sys.append(sy)\n",
    "#                 eys.append(ey)\n",
    "#         else:\n",
    "#             crop_size = image.size[1]\n",
    "#             for i in range(int(as_ratio)):\n",
    "#                 sxs.append( i * crop_size )\n",
    "#                 exs.append( (i+1) * crop_size - 1 )\n",
    "#                 sys.append( 0 )\n",
    "#                 eys.append( crop_size - 1 )\n",
    "#     else:\n",
    "#         # Not Crop (entire image)\n",
    "#         sxs, exs, sys, eys = [0,],[image.size[0]-1],[0,],[image.size[1]-1]\n",
    "\n",
    "#     df_crop = pd.DataFrame()\n",
    "#     df_crop[\"image_id\"] = [image_id] * len(sxs)\n",
    "#     df_crop[\"file_path\"] = [file_path] * len(sxs)\n",
    "#     df_crop[\"sx\"] = sxs\n",
    "#     df_crop[\"ex\"] = exs\n",
    "#     df_crop[\"sy\"] = sys\n",
    "#     df_crop[\"ey\"] = eys\n",
    "#     return df_crop"
   ]
  },
  {
   "cell_type": "code",
   "execution_count": null,
   "metadata": {},
   "outputs": [],
   "source": []
  },
  {
   "cell_type": "code",
   "execution_count": null,
   "metadata": {},
   "outputs": [],
   "source": []
  },
  {
   "cell_type": "code",
   "execution_count": null,
   "metadata": {},
   "outputs": [],
   "source": []
  },
  {
   "cell_type": "code",
   "execution_count": null,
   "metadata": {},
   "outputs": [],
   "source": []
  }
 ],
 "metadata": {
  "kernelspec": {
   "display_name": "base",
   "language": "python",
   "name": "python3"
  },
  "language_info": {
   "codemirror_mode": {
    "name": "ipython",
    "version": 3
   },
   "file_extension": ".py",
   "mimetype": "text/x-python",
   "name": "python",
   "nbconvert_exporter": "python",
   "pygments_lexer": "ipython3",
   "version": "3.11.5"
  }
 },
 "nbformat": 4,
 "nbformat_minor": 2
}
